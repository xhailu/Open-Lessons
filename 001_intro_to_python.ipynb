{
 "cells": [
  {
   "cell_type": "markdown",
   "id": "97e00883",
   "metadata": {},
   "source": [
    " ## Welcome to Python, Let us start by printing out the famous Hello World"
   ]
  },
  {
   "cell_type": "code",
   "execution_count": 1,
   "id": "f09fced2",
   "metadata": {},
   "outputs": [
    {
     "name": "stdout",
     "output_type": "stream",
     "text": [
      "Hello World\n"
     ]
    }
   ],
   "source": [
    "print(\"Hello World\")"
   ]
  },
  {
   "cell_type": "markdown",
   "id": "b5b09fb9",
   "metadata": {},
   "source": [
    "## Concatenation by using the + sign\n"
   ]
  },
  {
   "cell_type": "code",
   "execution_count": 3,
   "id": "6eb6a829",
   "metadata": {},
   "outputs": [
    {
     "name": "stdout",
     "output_type": "stream",
     "text": [
      "Hello  Everybody I'm Home!\n"
     ]
    }
   ],
   "source": [
    "print(\"Hello \" + \"Everybody\" + \" I'm Home!\") # Famous words of Enzo Pachele in the TV Series \"Home Sweet Home\""
   ]
  },
  {
   "cell_type": "markdown",
   "id": "33724b9e",
   "metadata": {},
   "source": [
    "## User Input by the builtin \"Input\" function to prompt and read input"
   ]
  },
  {
   "cell_type": "code",
   "execution_count": 7,
   "id": "aad20442",
   "metadata": {},
   "outputs": [
    {
     "name": "stdout",
     "output_type": "stream",
     "text": [
      "What is your name?Belete\n",
      "your name is Belete\n"
     ]
    }
   ],
   "source": [
    "yourname=input(\"What is your name?\")\n",
    "print(\"your name is\",yourname)"
   ]
  },
  {
   "cell_type": "markdown",
   "id": "be209a99",
   "metadata": {},
   "source": [
    "## Other builtin functions are  min(), max(), abs(), round(), type(), pow()....."
   ]
  },
  {
   "cell_type": "code",
   "execution_count": 8,
   "id": "1d3dea11",
   "metadata": {},
   "outputs": [
    {
     "name": "stdout",
     "output_type": "stream",
     "text": [
      "90\n"
     ]
    }
   ],
   "source": [
    "print(max(30,40,90))  # maximum  of given numbers"
   ]
  },
  {
   "cell_type": "code",
   "execution_count": 10,
   "id": "80f1a703",
   "metadata": {},
   "outputs": [
    {
     "name": "stdout",
     "output_type": "stream",
     "text": [
      "30\n"
     ]
    }
   ],
   "source": [
    "print(min(30,40,90))  # minimu of given numbers"
   ]
  },
  {
   "cell_type": "code",
   "execution_count": 11,
   "id": "03f17632",
   "metadata": {
    "scrolled": true
   },
   "outputs": [
    {
     "name": "stdout",
     "output_type": "stream",
     "text": [
      "225.14\n"
     ]
    }
   ],
   "source": [
    "print(round(225.1375,2)) #round to the number of digits in the second argument\n"
   ]
  },
  {
   "cell_type": "code",
   "execution_count": 12,
   "id": "536ff5ab",
   "metadata": {},
   "outputs": [
    {
     "name": "stdout",
     "output_type": "stream",
     "text": [
      "56\n"
     ]
    }
   ],
   "source": [
    "print(abs(-56))"
   ]
  },
  {
   "cell_type": "code",
   "execution_count": 13,
   "id": "74d2ba43",
   "metadata": {},
   "outputs": [
    {
     "name": "stdout",
     "output_type": "stream",
     "text": [
      "1000\n"
     ]
    }
   ],
   "source": [
    "print(pow(10,3))"
   ]
  },
  {
   "cell_type": "code",
   "execution_count": 12,
   "id": "350ca7e8",
   "metadata": {},
   "outputs": [
    {
     "data": {
      "text/plain": [
       "int"
      ]
     },
     "execution_count": 12,
     "metadata": {},
     "output_type": "execute_result"
    }
   ],
   "source": [
    "type(90) # What type is the data - int for integer"
   ]
  },
  {
   "cell_type": "code",
   "execution_count": 13,
   "id": "d855b96a",
   "metadata": {},
   "outputs": [
    {
     "data": {
      "text/plain": [
       "float"
      ]
     },
     "execution_count": 13,
     "metadata": {},
     "output_type": "execute_result"
    }
   ],
   "source": [
    "type(90.345) # What type is the data - floating type data"
   ]
  },
  {
   "cell_type": "code",
   "execution_count": 14,
   "id": "d7c3e8a7",
   "metadata": {},
   "outputs": [
    {
     "data": {
      "text/plain": [
       "list"
      ]
     },
     "execution_count": 14,
     "metadata": {},
     "output_type": "execute_result"
    }
   ],
   "source": [
    "type([1,2,3]) # What type is the data, we will learn about lists later on - they are like arrays in other languages"
   ]
  },
  {
   "cell_type": "code",
   "execution_count": 20,
   "id": "06b4852a",
   "metadata": {},
   "outputs": [
    {
     "data": {
      "text/plain": [
       "tuple"
      ]
     },
     "execution_count": 20,
     "metadata": {},
     "output_type": "execute_result"
    }
   ],
   "source": [
    "type((1,2,3)) # What type is the data, we will learn about tuples later on - they are like unmodifiable arrays "
   ]
  },
  {
   "cell_type": "code",
   "execution_count": 16,
   "id": "54b66097",
   "metadata": {},
   "outputs": [
    {
     "data": {
      "text/plain": [
       "dict"
      ]
     },
     "execution_count": 16,
     "metadata": {},
     "output_type": "execute_result"
    }
   ],
   "source": [
    "type({1:\"US\",2:\"CA\",3:\"GB\"}) # What type is the data, we will learn about dictionaries later on"
   ]
  },
  {
   "cell_type": "markdown",
   "id": "43cb3359",
   "metadata": {},
   "source": [
    "## There are also functions that change types"
   ]
  },
  {
   "cell_type": "code",
   "execution_count": 17,
   "id": "49e74932",
   "metadata": {},
   "outputs": [
    {
     "name": "stdout",
     "output_type": "stream",
     "text": [
      "3\n"
     ]
    }
   ],
   "source": [
    "print(int(3.23456)) # converts to integer"
   ]
  },
  {
   "cell_type": "code",
   "execution_count": 18,
   "id": "5c0a7ae7",
   "metadata": {},
   "outputs": [
    {
     "name": "stdout",
     "output_type": "stream",
     "text": [
      "3.0\n"
     ]
    }
   ],
   "source": [
    "print(float(3)) # converts to floating number"
   ]
  },
  {
   "cell_type": "code",
   "execution_count": 19,
   "id": "24f91ec4",
   "metadata": {},
   "outputs": [
    {
     "name": "stdout",
     "output_type": "stream",
     "text": [
      "280\n"
     ]
    }
   ],
   "source": [
    "print(int(\"280\")) # converts to string to integer"
   ]
  },
  {
   "cell_type": "code",
   "execution_count": 21,
   "id": "064945d4",
   "metadata": {},
   "outputs": [
    {
     "name": "stdout",
     "output_type": "stream",
     "text": [
      "5260\n"
     ]
    }
   ],
   "source": [
    "print(str(5260)) # converts to String"
   ]
  },
  {
   "cell_type": "markdown",
   "id": "309e1671",
   "metadata": {},
   "source": [
    "## The above (2560)  looks like a number.. but it is not... it is a string..."
   ]
  },
  {
   "cell_type": "code",
   "execution_count": 22,
   "id": "df9ba228",
   "metadata": {},
   "outputs": [
    {
     "name": "stdout",
     "output_type": "stream",
     "text": [
      "2560256025602560256025602560256025602560\n"
     ]
    }
   ],
   "source": [
    "print(10*str(2560))  # This will not give you 25,600 as you may have expected. 2560 is a string and repeated 10 times"
   ]
  },
  {
   "cell_type": "markdown",
   "id": "66da490d",
   "metadata": {},
   "source": [
    "## Type conversion is necessary when you concatenate text and numbers in your final output"
   ]
  },
  {
   "cell_type": "code",
   "execution_count": 24,
   "id": "1b4d282f",
   "metadata": {},
   "outputs": [
    {
     "name": "stdout",
     "output_type": "stream",
     "text": [
      "3 multiplied by 2 equals 6\n"
     ]
    }
   ],
   "source": [
    "print(str(3)+ \" multiplied by \" + str(2) + \" equals \" + str(2*3))"
   ]
  },
  {
   "cell_type": "markdown",
   "id": "073e8acc",
   "metadata": {},
   "source": [
    "# Assigning values to a variable"
   ]
  },
  {
   "cell_type": "code",
   "execution_count": 25,
   "id": "a2639a78",
   "metadata": {},
   "outputs": [
    {
     "name": "stdout",
     "output_type": "stream",
     "text": [
      "200\n"
     ]
    }
   ],
   "source": [
    "x=100\n",
    "y=2\n",
    "z=x*y\n",
    "print(z)"
   ]
  },
  {
   "cell_type": "code",
   "execution_count": 26,
   "id": "49c79880",
   "metadata": {},
   "outputs": [
    {
     "name": "stdout",
     "output_type": "stream",
     "text": [
      "200\n"
     ]
    }
   ],
   "source": [
    "x=100\n",
    "y=2\n",
    "x*=y  # this is equivalent to x = x*y  it is called augmented assignment\n",
    "print(x)"
   ]
  },
  {
   "cell_type": "markdown",
   "id": "8413097f",
   "metadata": {},
   "source": [
    "## Other Augmented Assignments are like \n",
    "##    +=      -=      /=     %=   //=     you should try them "
   ]
  },
  {
   "cell_type": "code",
   "execution_count": 27,
   "id": "df80daac",
   "metadata": {},
   "outputs": [
    {
     "name": "stdout",
     "output_type": "stream",
     "text": [
      "102\n"
     ]
    }
   ],
   "source": [
    "x=100\n",
    "y=2\n",
    "x+=y  # this is equivalent to x = x+y  \n",
    "print(x)"
   ]
  },
  {
   "cell_type": "markdown",
   "id": "9c929d28",
   "metadata": {},
   "source": [
    "## new line \\n   tab \\t"
   ]
  },
  {
   "cell_type": "code",
   "execution_count": 1,
   "id": "43d14a2a",
   "metadata": {},
   "outputs": [
    {
     "name": "stdout",
     "output_type": "stream",
     "text": [
      "My to do list:\n",
      "\tVaccum the Basement\n",
      "\tWash the Dishes\n",
      "\tWater the Plants\n"
     ]
    }
   ],
   "source": [
    "todolist=\"My to do list:\\n\\tVaccum the Basement\\n\\tWash the Dishes\\n\\tWater the Plants\"\n",
    "print(todolist)"
   ]
  },
  {
   "cell_type": "markdown",
   "id": "a8bb2cd8",
   "metadata": {},
   "source": [
    "## String methods  title(), upper(), lower(), lstrip(), rstrip(), strip()"
   ]
  },
  {
   "cell_type": "code",
   "execution_count": 3,
   "id": "1633f5bc",
   "metadata": {},
   "outputs": [
    {
     "data": {
      "text/plain": [
       "'Belete Seboka'"
      ]
     },
     "execution_count": 3,
     "metadata": {},
     "output_type": "execute_result"
    }
   ],
   "source": [
    "yourname=\"belete seboka\"\n",
    "yourname.title()"
   ]
  },
  {
   "cell_type": "code",
   "execution_count": 4,
   "id": "2f50120f",
   "metadata": {},
   "outputs": [
    {
     "data": {
      "text/plain": [
       "'BELETE SEBOKA'"
      ]
     },
     "execution_count": 4,
     "metadata": {},
     "output_type": "execute_result"
    }
   ],
   "source": [
    "yourname.upper()"
   ]
  },
  {
   "cell_type": "code",
   "execution_count": 5,
   "id": "6ae6d530",
   "metadata": {},
   "outputs": [
    {
     "data": {
      "text/plain": [
       "'belete seboka'"
      ]
     },
     "execution_count": 5,
     "metadata": {},
     "output_type": "execute_result"
    }
   ],
   "source": [
    "yourname.lower()"
   ]
  },
  {
   "cell_type": "code",
   "execution_count": 8,
   "id": "77ee8a21",
   "metadata": {},
   "outputs": [],
   "source": [
    "yourfirstname = \"  Belete    \""
   ]
  },
  {
   "cell_type": "code",
   "execution_count": 9,
   "id": "c0cdc57a",
   "metadata": {},
   "outputs": [
    {
     "data": {
      "text/plain": [
       "'Belete    '"
      ]
     },
     "execution_count": 9,
     "metadata": {},
     "output_type": "execute_result"
    }
   ],
   "source": [
    "yourfirstname.lstrip()"
   ]
  },
  {
   "cell_type": "code",
   "execution_count": 10,
   "id": "18137e6a",
   "metadata": {},
   "outputs": [
    {
     "data": {
      "text/plain": [
       "'  Belete'"
      ]
     },
     "execution_count": 10,
     "metadata": {},
     "output_type": "execute_result"
    }
   ],
   "source": [
    "yourfirstname.rstrip()"
   ]
  },
  {
   "cell_type": "code",
   "execution_count": 11,
   "id": "c6d977e1",
   "metadata": {},
   "outputs": [
    {
     "data": {
      "text/plain": [
       "'Belete'"
      ]
     },
     "execution_count": 11,
     "metadata": {},
     "output_type": "execute_result"
    }
   ],
   "source": [
    "yourfirstname.strip()"
   ]
  },
  {
   "cell_type": "markdown",
   "id": "ea280657",
   "metadata": {},
   "source": [
    "## Using Variables in Strings\n",
    "## From Python 3.6 onwards you can use variables directly in Strings\n",
    "## From Python 3.5 and before you have to use format "
   ]
  },
  {
   "cell_type": "code",
   "execution_count": 14,
   "id": "380eeaf2",
   "metadata": {},
   "outputs": [
    {
     "name": "stdout",
     "output_type": "stream",
     "text": [
      "Welcome Back,Belete!\n"
     ]
    }
   ],
   "source": [
    "# Python 3.6 Onwards\n",
    "customer=\"Belete\"\n",
    "print(f\"Welcome Back,{customer}!\")  # notice the f preceding the quotation"
   ]
  },
  {
   "cell_type": "code",
   "execution_count": 15,
   "id": "8f5e7a6a",
   "metadata": {},
   "outputs": [
    {
     "name": "stdout",
     "output_type": "stream",
     "text": [
      "Welcome Back,Belete!\n"
     ]
    }
   ],
   "source": [
    "# Python 3.5 and backwards\n",
    "customer=\"Belete\"\n",
    "print(\"Welcome Back,{}!\".format(customer)) #   see the correspondence   {} --> customer"
   ]
  },
  {
   "cell_type": "code",
   "execution_count": 18,
   "id": "1043b36d",
   "metadata": {},
   "outputs": [
    {
     "name": "stdout",
     "output_type": "stream",
     "text": [
      "Welcome, Belete and Abebe!\n"
     ]
    }
   ],
   "source": [
    "# Python 3.5 and backwards  with multiple variables \n",
    "customer_1=\"Belete\"\n",
    "customer_2=\"Abebe\"\n",
    "print(\"Welcome, {} and {}!\".format(customer_1,customer_2))"
   ]
  },
  {
   "cell_type": "code",
   "execution_count": null,
   "id": "9c3dee6e",
   "metadata": {},
   "outputs": [],
   "source": []
  }
 ],
 "metadata": {
  "kernelspec": {
   "display_name": "Python 3 (ipykernel)",
   "language": "python",
   "name": "python3"
  },
  "language_info": {
   "codemirror_mode": {
    "name": "ipython",
    "version": 3
   },
   "file_extension": ".py",
   "mimetype": "text/x-python",
   "name": "python",
   "nbconvert_exporter": "python",
   "pygments_lexer": "ipython3",
   "version": "3.9.9"
  }
 },
 "nbformat": 4,
 "nbformat_minor": 5
}
